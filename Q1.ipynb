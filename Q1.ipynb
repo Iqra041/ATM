{
 "cells": [
  {
   "cell_type": "markdown",
   "metadata": {},
   "source": [
    "### **1. Implement a function that checks whether a given string is a palindrome, but with the following constraints:**\n",
    "+ **Avoid using any built-in string reversal functions (e.g., [::-1]).**\n",
    "+ **Do not rely on external libraries or modules.**\n",
    "+ **Students should create their own logic for checking palindromes.**"
   ]
  },
  {
   "cell_type": "code",
   "execution_count": 2,
   "metadata": {},
   "outputs": [
    {
     "name": "stdout",
     "output_type": "stream",
     "text": [
      "True\n",
      "False\n"
     ]
    }
   ],
   "source": [
    "def is_palindrome(text): \n",
    "    length= len(text)\n",
    "    for i in range(0, length//2):\n",
    "        if (text[i] != text[length-i-1]): \n",
    "            return False\n",
    "    return True\n",
    "string1= input(\"Enter text: \")\n",
    "print(is_palindrome(string1))\n",
    "string2= int(input(\"Enter text: \"))\n",
    "print(is_palindrome(string2))"
   ]
  },
  {
   "cell_type": "markdown",
   "metadata": {},
   "source": [
    "##### For example we enter string1= racecar and string2= abceba"
   ]
  },
  {
   "cell_type": "markdown",
   "metadata": {},
   "source": [
    "### **Explain:**\n",
    "\n",
    "##### **In case of \" racecar \"**\n",
    "+ length= 7\n",
    "+ length//2 = 3      ( loop is going to stop when i= 3 )\n",
    "+ index = 0  1  2  3  4  5  6 \n",
    "+           r a c e c a r         (chracter will be stored in the index)\n",
    "+ when i=0 then 7-0-1=6 so compare index 0 and 6 value \n",
    "+ when i=1 then 7-1-1=5 so compare index 1 and 5 value \n",
    "+ when i=2 then 7-2-1=4 so compare index 2 and 4 value \n",
    "+ middle value is e=3 and it will be going to match itself      "
   ]
  }
 ],
 "metadata": {
  "kernelspec": {
   "display_name": "Python 3",
   "language": "python",
   "name": "python3"
  },
  "language_info": {
   "codemirror_mode": {
    "name": "ipython",
    "version": 3
   },
   "file_extension": ".py",
   "mimetype": "text/x-python",
   "name": "python",
   "nbconvert_exporter": "python",
   "pygments_lexer": "ipython3",
   "version": "3.12.4"
  }
 },
 "nbformat": 4,
 "nbformat_minor": 2
}
