{
 "cells": [
  {
   "cell_type": "markdown",
   "metadata": {},
   "source": [
    "### **3.  Create a dictionary that maps words to their lengths in a given sentence, but with the following limitations:**\n",
    "+ ##### **Students cannot use any string splitting functions (e.g., split()).**"
   ]
  },
  {
   "cell_type": "code",
   "execution_count": 1,
   "metadata": {},
   "outputs": [
    {
     "name": "stdout",
     "output_type": "stream",
     "text": [
      "{'The': 3, 'quick': 5, 'brown': 5, 'fox': 3, 'jumps': 5, 'over': 4, 'the': 3, 'lazy': 4, 'dog': 3}\n"
     ]
    }
   ],
   "source": [
    "def word_lengths(sentence):\n",
    "    word_dict = {}\n",
    "    current_word = \"\"\n",
    "    \n",
    "    for char in sentence:\n",
    "        if char.isalnum():\n",
    "            current_word += char\n",
    "        else:\n",
    "            if current_word:\n",
    "                word_dict[current_word] = len(current_word)\n",
    "                current_word = \"\"\n",
    "    \n",
    "    if current_word:\n",
    "        word_dict[current_word] = len(current_word)\n",
    "    \n",
    "    return word_dict\n",
    "sentence = input(\"Enter sentence here: \")\n",
    "word_lengths_dict = word_lengths(sentence)\n",
    "print(word_lengths_dict)"
   ]
  }
 ],
 "metadata": {
  "kernelspec": {
   "display_name": "Python 3",
   "language": "python",
   "name": "python3"
  },
  "language_info": {
   "codemirror_mode": {
    "name": "ipython",
    "version": 3
   },
   "file_extension": ".py",
   "mimetype": "text/x-python",
   "name": "python",
   "nbconvert_exporter": "python",
   "pygments_lexer": "ipython3",
   "version": "3.12.4"
  }
 },
 "nbformat": 4,
 "nbformat_minor": 2
}
