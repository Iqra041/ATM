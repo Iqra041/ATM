{
 "cells": [
  {
   "cell_type": "markdown",
   "metadata": {},
   "source": [
    "### **2. Write a Python program that calculates the factorial of a given positive integer, but with the restriction that you cannot use any built-in factorial functions or libraries or loops (e.g., math.factorial).**"
   ]
  },
  {
   "cell_type": "code",
   "execution_count": 2,
   "metadata": {},
   "outputs": [
    {
     "name": "stdout",
     "output_type": "stream",
     "text": [
      "The factorial of the given is  6227020800\n"
     ]
    }
   ],
   "source": [
    "def fact(a): \n",
    "    if a==0:\n",
    "        return 1\n",
    "    else:\n",
    "        return (a*fact(a-1))\n",
    "num= int(input(\"Enter a number here: \"))\n",
    "result= fact(num)\n",
    "print(\"The factorial of the given is \", result)\n"
   ]
  }
 ],
 "metadata": {
  "kernelspec": {
   "display_name": "Python 3",
   "language": "python",
   "name": "python3"
  },
  "language_info": {
   "codemirror_mode": {
    "name": "ipython",
    "version": 3
   },
   "file_extension": ".py",
   "mimetype": "text/x-python",
   "name": "python",
   "nbconvert_exporter": "python",
   "pygments_lexer": "ipython3",
   "version": "3.12.4"
  }
 },
 "nbformat": 4,
 "nbformat_minor": 2
}
